{
  "nbformat": 4,
  "nbformat_minor": 0,
  "metadata": {
    "colab": {
      "provenance": [],
      "authorship_tag": "ABX9TyO1skJVzt02RyHEDDJLS9bE",
      "include_colab_link": true
    },
    "kernelspec": {
      "name": "python3",
      "display_name": "Python 3"
    },
    "language_info": {
      "name": "python"
    }
  },
  "cells": [
    {
      "cell_type": "markdown",
      "metadata": {
        "id": "view-in-github",
        "colab_type": "text"
      },
      "source": [
        "<a href=\"https://colab.research.google.com/github/chiragkumargohil/co2-emissions-data-analysis/blob/main/co2_emissions_data_analysis.ipynb\" target=\"_parent\"><img src=\"https://colab.research.google.com/assets/colab-badge.svg\" alt=\"Open In Colab\"/></a>"
      ]
    },
    {
      "cell_type": "code",
      "source": [
        "from co2_emission_analysis import CO2EmissionAnalysis"
      ],
      "metadata": {
        "id": "SZ9pgfsS1gA_"
      },
      "execution_count": 1,
      "outputs": []
    },
    {
      "cell_type": "code",
      "source": [
        "if __name__ == '__main__':\n",
        "    print('\\n   Welcome to the CO2 Emission Data Analysis (1997-2010, 195 countries). There are four questions that print data, provide a summary of given year, visualize data for given countries (in Matplotlib), and save data in separate file for given countries.')\n",
        "    print('\\n--------------------------------------------------\\n')\n",
        "\n",
        "    co2 = CO2EmissionAnalysis()\n",
        "\n",
        "    while True:\n",
        "        q1 = input('Do you want to view the data? (y/n): ').lower()\n",
        "        if q1 == 'y':\n",
        "            co2.show_data()\n",
        "            break\n",
        "        elif q1 == 'n':\n",
        "            break\n",
        "        else:\n",
        "            print('Invalid response.\\n')\n",
        "            continue\n",
        "    print('\\n--------------------------------------------------\\n')\n",
        "    \n",
        "    while True:\n",
        "        q2 = input('Enter a year to view its summary (1997 to 2010): ')\n",
        "        if not co2.valid_year(q2):\n",
        "            continue\n",
        "        else:\n",
        "            break\n",
        "    \n",
        "    co2.summary_of_year(q2)\n",
        "    print('\\n--------------------------------------------------\\n')\n",
        "\n",
        "    while True:\n",
        "        q3 = input(\"Enter the 'comma-separated' countries for which you want to visualize data: \").title()\n",
        "        countries = [i.strip() for i in q3.split(',')]\n",
        "        if not co2.is_available(countries):\n",
        "            continue\n",
        "        else:\n",
        "            break\n",
        "    \n",
        "    co2.visualize_stats_of(countries)\n",
        "    print('\\n--------------------------------------------------\\n')\n",
        "\n",
        "    while True:\n",
        "        q4 = input(\"Enter the 'comma-separated' coutries for which you want to extract data: \").title()\n",
        "        nations = [i.strip() for i in q4.split(',')]\n",
        "        \n",
        "        if not co2.is_available(nations):\n",
        "            continue\n",
        "        else:\n",
        "            break\n",
        "    \n",
        "    co2.extract_data(nations)\n",
        "    print('\\n--------------------------------------------------')\n",
        "    print('\\n<\"Thank You. Enjoy your day. :)/>\"\\n')"
      ],
      "metadata": {
        "colab": {
          "base_uri": "https://localhost:8080/",
          "height": 779
        },
        "id": "P35r3Cy31ur4",
        "outputId": "67424c42-34e8-4e7c-b78e-fd254d24a133"
      },
      "execution_count": 3,
      "outputs": [
        {
          "name": "stdout",
          "output_type": "stream",
          "text": [
            "\n",
            "   Welcome to the CO2 Emission Data Analysis (1997-2010, 195 countries). There are four questions that print data, provide a summary of given year, visualize data for given countries (in Matplotlib), and save data in separate file for given countries.\n",
            "\n",
            "--------------------------------------------------\n",
            "\n",
            "Do you want to view the data? (y/n): n\n",
            "\n",
            "--------------------------------------------------\n",
            "\n",
            "Enter a year to view its summary (1997 to 2010): 1997\n",
            "\n",
            "=> In 1997, countries with minimum and maximum CO2 emission levels were, Chad and Qatar respectively. The average CO2 emissions in 1997 were 4.96.\n",
            "\n",
            "--------------------------------------------------\n",
            "\n",
            "Enter the 'comma-separated' countries for which you want to visualize data: india, pakistan\n"
          ]
        },
        {
          "output_type": "display_data",
          "data": {
            "text/plain": [
              "<Figure size 432x288 with 1 Axes>"
            ],
            "image/png": "[encoded data removed]"
          },
          "metadata": {
            "needs_background": "light"
          }
        },
        {
          "output_type": "stream",
          "name": "stdout",
          "text": [
            "\n",
            "--------------------------------------------------\n",
            "\n",
            "Enter the 'comma-separated' coutries for which you want to extract data: india, pakistan\n",
            "Data added in file named, 'Emissions_subset.csv'\n",
            "\n",
            "--------------------------------------------------\n",
            "\n",
            "<\"Thank You. Enjoy your day. :)/>\"\n",
            "\n"
          ]
        }
      ]
    }
  ]
}