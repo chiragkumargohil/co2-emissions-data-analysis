{
  "nbformat": 4,
  "nbformat_minor": 0,
  "metadata": {
    "colab": {
      "provenance": [],
      "authorship_tag": "ABX9TyN0TTpGxZMQkUoNjG1NK4R7",
      "include_colab_link": true
    },
    "kernelspec": {
      "name": "python3",
      "display_name": "Python 3"
    },
    "language_info": {
      "name": "python"
    }
  },
  "cells": [
    {
      "cell_type": "markdown",
      "metadata": {
        "id": "view-in-github",
        "colab_type": "text"
      },
      "source": [
        "<a href=\"https://colab.research.google.com/github/chiragkumargohil/co2-emissions-data-analysis/blob/main/co2_emissions_data_analysis.ipynb\" target=\"_parent\"><img src=\"https://colab.research.google.com/assets/colab-badge.svg\" alt=\"Open In Colab\"/></a>"
      ]
    },
    {
      "cell_type": "code",
      "execution_count": null,
      "metadata": {
        "cellView": "form",
        "id": "0ujPlapDvscE"
      },
      "outputs": [],
      "source": [
        "#@title\n",
        "import csv\n",
        "import time\n",
        "import matplotlib.pyplot as plt\n",
        "\n",
        "class CO2EmissionAnalysis:\n",
        "    def __init__(self):\n",
        "        with open('Emissions.csv', 'rt') as f:\n",
        "            csv_data = csv.reader(f) # reads a csv file\n",
        "            dictionary = {row[0]:row[1:] for row in csv_data}\n",
        "        \n",
        "        self.dictionary = dictionary\n",
        "        self.keys = list(self.dictionary.keys())\n",
        "        self.years = self.dictionary.get('CO2 per capita')\n",
        "        self.countries = list(self.dictionary.keys())[1:]\n",
        "    \n",
        "    def show_data(self):\n",
        "        for key, val in self.dictionary.items():\n",
        "            print(f\"{key} - {val}\")\n",
        "    \n",
        "    def data_of_year(self, year):\n",
        "        if year not in self.years:\n",
        "            return 'Invalid Year! Try again.'\n",
        "        \n",
        "        desired_year = self.years.index(year)\n",
        "        emmision_list = list()\n",
        "        for val in self.dictionary.values():\n",
        "            emmision_list.append(float(val[desired_year]))\n",
        "        return emmision_list[1:] # this list does not include first value as that would be year\n",
        "\n",
        "    def summary_of_year(self, year):\n",
        "        required_list = self.data_of_year(year)\n",
        "\n",
        "        max_index = required_list.index(max(required_list))+1 # +1 as required list has 1 less value\n",
        "        min_index = required_list.index(min(required_list))+1 # +1 as required list has 1 less value\n",
        "        avrg = sum(required_list)/len(required_list)\n",
        "        \n",
        "        print(f\"\\n=> In {year}, countries with minimum and maximum CO2 emission levels were, {self.keys[min_index]} and {self.keys[max_index]} respectively. The average CO2 emissions in {year} were {round(avrg, 2)}.\")\n",
        "    \n",
        "    def visualize_stats_of(self, coutries: str):\n",
        "        plot_list = list()\n",
        "        for name in coutries:\n",
        "            plot_list.append([float(i) for i in self.dictionary.get(name)])\n",
        "\n",
        "        plt.suptitle('Year vs Emission in Capita')\n",
        "        for i in plot_list:\n",
        "            plt.plot(self.years, i)\n",
        "        plt.legend(coutries)\n",
        "        plt.xlabel('Year')\n",
        "        plt.ylabel(f'Emission in Given Country(s)')\n",
        "        plt.show()\n",
        "    \n",
        "    def extract_data(self, coutries: str):\n",
        "        adding = [['CO2 per capita'] + self.years]\n",
        "        for name in coutries:\n",
        "            adding.append([name] + self.dictionary.get(name))\n",
        "        \n",
        "        with open('Emissions_subset.csv', 'w', newline='') as f:\n",
        "            write_stats = csv.writer(f)\n",
        "            write_stats.writerows(adding)\n",
        "        print(\"Data added in file named, 'Emissions_subset.csv'\")\n",
        "\n",
        "    def is_available(self, countries: list):\n",
        "        for country in countries:\n",
        "            if country not in self.countries:\n",
        "                print(f'-> Data for {country} is not available. Each name should be typed again.\\n')\n",
        "                return False\n",
        "            else:\n",
        "                return True\n",
        "    \n",
        "    def valid_year(self, year: str):\n",
        "        if not year.isdigit():\n",
        "            print('-> Invalid year.\\n')\n",
        "            return False\n",
        "        elif not 1997 <= int(year) <= 2010:\n",
        "            print(f'-> No data are available for {year}..\\n')\n",
        "            return False\n",
        "        else:\n",
        "            return True"
      ]
    }
  ]
}